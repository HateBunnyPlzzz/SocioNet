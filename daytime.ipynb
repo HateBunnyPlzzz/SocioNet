{
 "cells": [
  {
   "cell_type": "code",
   "execution_count": 1,
   "metadata": {},
   "outputs": [],
   "source": [
    "import matplotlib\n",
    "import rasterio"
   ]
  },
  {
   "cell_type": "markdown",
   "metadata": {},
   "source": [
    "socio-economic conditions, such as access to schools, <br> healthcare facilities, road networks, or environmental hazards."
   ]
  },
  {
   "cell_type": "code",
   "execution_count": 3,
   "metadata": {},
   "outputs": [
    {
     "data": {
      "text/html": [
       "<p>To authorize access needed by Earth Engine, open the following\n",
       "        URL in a web browser and follow the instructions:</p>\n",
       "        <p><a href=https://code.earthengine.google.com/client-auth?scopes=https%3A//www.googleapis.com/auth/earthengine%20https%3A//www.googleapis.com/auth/cloud-platform%20https%3A//www.googleapis.com/auth/devstorage.full_control&request_id=0Kqh0wh6vofP7AOZEPda4muPX9Jr4DlpBoVbgpk35jM&tc=9sj9OP9izRqSiK5AqxWXRyWTqPJZLCi7S2MsyQsoxC0&cc=lJ2ssFc_Bchl4QazodevYJ9T3yS8ce1tfZgShmP-HWw>https://code.earthengine.google.com/client-auth?scopes=https%3A//www.googleapis.com/auth/earthengine%20https%3A//www.googleapis.com/auth/cloud-platform%20https%3A//www.googleapis.com/auth/devstorage.full_control&request_id=0Kqh0wh6vofP7AOZEPda4muPX9Jr4DlpBoVbgpk35jM&tc=9sj9OP9izRqSiK5AqxWXRyWTqPJZLCi7S2MsyQsoxC0&cc=lJ2ssFc_Bchl4QazodevYJ9T3yS8ce1tfZgShmP-HWw</a></p>\n",
       "        <p>The authorization workflow will generate a code, which you should paste in the box below.</p>\n",
       "        "
      ],
      "text/plain": [
       "<IPython.core.display.HTML object>"
      ]
     },
     "metadata": {},
     "output_type": "display_data"
    },
    {
     "name": "stdout",
     "output_type": "stream",
     "text": [
      "\n",
      "Successfully saved authorization token.\n"
     ]
    }
   ],
   "source": [
    "import ee\n",
    "import geopandas as gpd"
   ]
  },
  {
   "cell_type": "code",
   "execution_count": 4,
   "metadata": {},
   "outputs": [],
   "source": [
    "shapefile_path = '../POVERTY/district_geometries.shp'\n",
    "gdf = gpd.read_file(shapefile_path)"
   ]
  },
  {
   "cell_type": "code",
   "execution_count": 10,
   "metadata": {},
   "outputs": [
    {
     "data": {
      "text/plain": [
       "Index(['District', 'Year', 'ELECTHH', 'COOKFUEL', 'TOILETTYPE', 'DRINKWATER',\n",
       "       'WEALTHQHH', 'WEALTHSHH', 'LATNUM', 'LONGNUM', 'pc11_d_id', 'd_name',\n",
       "       'pc11_state', 'viirs_annu', 'viirs_an_1', 'viirs_an_2', 'viirs_an_3',\n",
       "       'viirs_an_4', 'category', 'geometry'],\n",
       "      dtype='object')"
      ]
     },
     "execution_count": 10,
     "metadata": {},
     "output_type": "execute_result"
    }
   ],
   "source": [
    "gdf.columns"
   ]
  },
  {
   "cell_type": "code",
   "execution_count": 11,
   "metadata": {},
   "outputs": [],
   "source": [
    "gdf = gdf[['District','LATNUM', 'LONGNUM', 'pc11_d_id']]"
   ]
  },
  {
   "cell_type": "code",
   "execution_count": 16,
   "metadata": {},
   "outputs": [
    {
     "name": "stdout",
     "output_type": "stream",
     "text": [
      "     District     LATNUM    LONGNUM  pc11_d_id\n",
      "0         585  15.353271  74.001183        585\n",
      "1         586  15.284693  73.998138        586\n",
      "2         491  20.618427  72.918945        491\n",
      "3         483  22.747047  72.680046        483\n",
      "4         489  20.777046  73.502068        489\n",
      "..        ...        ...        ...        ...\n",
      "516       535  17.519455  78.264648        535\n",
      "517       541  17.924290  80.815651        541\n",
      "518       537  17.269142  77.665649        537\n",
      "519       536  17.421644  78.455246        536\n",
      "520       534  18.569941  79.448517        534\n",
      "\n",
      "[521 rows x 4 columns]\n"
     ]
    }
   ],
   "source": [
    "print(gdf)"
   ]
  },
  {
   "cell_type": "code",
   "execution_count": 17,
   "metadata": {},
   "outputs": [],
   "source": [
    "gdf.to_csv('district_coordinates_2015_corrected.csv', index=False, encoding='utf-8')"
   ]
  },
  {
   "cell_type": "markdown",
   "metadata": {},
   "source": [
    "## GEE Console code\n"
   ]
  },
  {
   "cell_type": "markdown",
   "metadata": {},
   "source": [
    "// Load the FeatureCollection of district coordinates.\n",
    "var districtCoordinates = ee.FeatureCollection('projects/scenic-lane-400211/assets/top_100_district_coordinates_2015_');\n",
    "\n",
    "// Function to create a 10km x 10km square buffer around each point (district's coordinates).\n",
    "function createBoundingBox(feature) {\n",
    "  var lat = feature.get('LATNUM');\n",
    "  var lon = feature.get('LONGNUM');\n",
    "  var point = ee.Geometry.Point([lon, lat]);\n",
    "  var square = point.buffer(10000 / 2 * Math.sqrt(2)).bounds();\n",
    "  return feature.setGeometry(square);\n",
    "}\n",
    "\n",
    "// Apply the function to all districts to create their bounding boxes.\n",
    "var districtBoundingBoxes = districtCoordinates.map(createBoundingBox);\n",
    "\n",
    "// Sentinel-2 composite image for the specified time range.\n",
    "var sentinel2Composite = ee.ImageCollection('COPERNICUS/S2')\n",
    "                            .filterDate('2015-01-01', '2015-12-31')\n",
    "                            .filterBounds(districtBoundingBoxes)\n",
    "                            .median();\n",
    "\n",
    "// Function to set up export tasks for each district\n",
    "function setupExport(districtFeature, index) {\n",
    "  var districtImage = sentinel2Composite.clip(districtFeature.geometry());\n",
    "\n",
    "  // Use district ID for naming, ensure it's fetched correctly before this point\n",
    "  var districtId = districtFeature.get('District').getInfo(); // This should be adjusted\n",
    "\n",
    "  Export.image.toDrive({\n",
    "    image: districtImage,\n",
    "    description: 'DistrictImage_' + districtId,\n",
    "    folder: 'GEE_District_Images',\n",
    "    scale: 10,\n",
    "    region: districtFeature.geometry().bounds(),\n",
    "    maxPixels: 1e13\n",
    "  });\n",
    "}\n",
    "\n",
    "function visualizeDistrictImage(districtFeature) {\n",
    "  var districtImage = sentinel2Composite.clip(districtFeature.geometry());\n",
    "  \n",
    "  // Generate a unique name for the layer based on the district ID\n",
    "  var districtId = districtFeature.get('District').getInfo(); // This is synchronous and should be used cautiously\n",
    "  \n",
    "  // Add the clipped district image to the map\n",
    "  Map.addLayer(districtImage, {bands: ['B4', 'B3', 'B2'], max: 3000}, 'District Image ' + districtId);\n",
    "}\n",
    "\n",
    "// Manual iteration for batch processing\n",
    "// Here, you manually update 'batchStart' for subsequent batches\n",
    "var batchSize = 10; // Define the size of each batch\n",
    "var batchStart = 0; // Update this manually for each batch\n",
    "\n",
    "// Select a batch of districts based on 'batchStart' and 'batchSize'\n",
    "var batchDistricts = districtBoundingBoxes.toList(batchSize, batchStart);\n",
    "\n",
    "// Manually initiate export for each district in the batch\n",
    "for (var i = 0; i < batchSize; i++) {\n",
    "  var districtFeature = ee.Feature(batchDistricts.get(i));\n",
    "  setupExport(districtFeature, batchStart + i); // Pass the correct index or ID\n",
    "}"
   ]
  },
  {
   "cell_type": "code",
   "execution_count": 29,
   "metadata": {},
   "outputs": [],
   "source": [
    "import rasterio\n",
    "from rasterio.plot import show\n",
    "import matplotlib.pyplot as plt\n",
    "\n",
    "# Replace 'path/to/your/image.tif' with your actual file path\n",
    "with rasterio.open('./DistrictImage_363.tif') as src:\n",
    "    image = src.read(1)  # Assuming band 1 contains the data you want to visualize\n"
   ]
  },
  {
   "cell_type": "code",
   "execution_count": 30,
   "metadata": {},
   "outputs": [
    {
     "data": {
      "image/png": "[encoded data removed]",
      "text/plain": [
       "<Figure size 640x480 with 2 Axes>"
      ]
     },
     "metadata": {},
     "output_type": "display_data"
    }
   ],
   "source": [
    "plt.imshow(image)\n",
    "plt.colorbar()\n",
    "plt.show()\n"
   ]
  },
  {
   "cell_type": "code",
   "execution_count": null,
   "metadata": {},
   "outputs": [],
   "source": []
  }
 ],
 "metadata": {
  "kernelspec": {
   "display_name": "gymgeo",
   "language": "python",
   "name": "python3"
  },
  "language_info": {
   "codemirror_mode": {
    "name": "ipython",
    "version": 3
   },
   "file_extension": ".py",
   "mimetype": "text/x-python",
   "name": "python",
   "nbconvert_exporter": "python",
   "pygments_lexer": "ipython3",
   "version": "3.1.0"
  }
 },
 "nbformat": 4,
 "nbformat_minor": 2
}
